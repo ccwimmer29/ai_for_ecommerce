{
 "cells": [
  {
   "cell_type": "markdown",
   "id": "b724ea22",
   "metadata": {},
   "source": [
    "# **Multimodal Conversational AI for E-commerce: A Vision-Language Approach**\n"
   ]
  },
  {
   "cell_type": "markdown",
   "id": "188dcff5",
   "metadata": {},
   "source": [
    "## Understanding Multimodal Data"
   ]
  },
  {
   "cell_type": "code",
   "execution_count": 1,
   "id": "b825cd99",
   "metadata": {},
   "outputs": [
    {
     "name": "stderr",
     "output_type": "stream",
     "text": [
      "c:\\Users\\zcali\\OneDrive\\Documents\\Gen AI\\gaivenv\\Lib\\site-packages\\tqdm\\auto.py:21: TqdmWarning: IProgress not found. Please update jupyter and ipywidgets. See https://ipywidgets.readthedocs.io/en/stable/user_install.html\n",
      "  from .autonotebook import tqdm as notebook_tqdm\n"
     ]
    }
   ],
   "source": [
    "import kagglehub\n",
    "import os\n",
    "import pandas as pd\n",
    "import matplotlib.pyplot as plt\n",
    "from PIL import Image\n",
    "import requests\n",
    "from io import BytesIO\n",
    "import random\n",
    "from tqdm import tqdm\n",
    "from sklearn.feature_extraction.text import TfidfVectorizer\n",
    "from sklearn.metrics.pairwise import cosine_similarity\n",
    "from PIL import Image\n",
    "from io import BytesIO\n",
    "import numpy as np\n",
    "from IPython.display import Markdown, display"
   ]
  },
  {
   "cell_type": "markdown",
   "id": "6939ea61",
   "metadata": {},
   "source": [
    "### Load Data"
   ]
  },
  {
   "cell_type": "code",
   "execution_count": 2,
   "id": "d056201e",
   "metadata": {},
   "outputs": [
    {
     "name": "stdout",
     "output_type": "stream",
     "text": [
      "Path to dataset files: C:\\Users\\zcali\\.cache\\kagglehub\\datasets\\promptcloud\\amazon-product-dataset-2020\\versions\\1\n"
     ]
    }
   ],
   "source": [
    "#download kaggle dataset\n",
    "path = kagglehub.dataset_download(\"promptcloud/amazon-product-dataset-2020\")\n",
    "\n",
    "print(\"Path to dataset files:\", path)"
   ]
  },
  {
   "cell_type": "code",
   "execution_count": 3,
   "id": "31352b78",
   "metadata": {},
   "outputs": [
    {
     "name": "stdout",
     "output_type": "stream",
     "text": [
      "C:\\Users\\zcali\\.cache\\kagglehub\\datasets\\promptcloud\\amazon-product-dataset-2020\\versions\\1\\home\\sdf\\marketing_sample_for_amazon_com-ecommerce__20200101_20200131__10k_data.csv\n"
     ]
    }
   ],
   "source": [
    "#list all the files\n",
    "for root, dirs, files in os.walk(path):\n",
    "    for file in files:\n",
    "        print(os.path.join(root, file))"
   ]
  },
  {
   "cell_type": "code",
   "execution_count": 4,
   "id": "213f6b4f",
   "metadata": {},
   "outputs": [],
   "source": [
    "#load data\n",
    "csv_path = r\"C:\\Users\\zcali\\.cache\\kagglehub\\datasets\\promptcloud\\amazon-product-dataset-2020\\versions\\1\\home\\sdf\\marketing_sample_for_amazon_com-ecommerce__20200101_20200131__10k_data.csv\"\n",
    "\n",
    "df = pd.read_csv(\n",
    "    csv_path,\n",
    "    encoding='utf-8',\n",
    "    on_bad_lines='skip',\n",
    "    engine='python',\n",
    "    quotechar='\"',\n",
    "    escapechar='\\\\'\n",
    ")"
   ]
  },
  {
   "cell_type": "markdown",
   "id": "7484d339",
   "metadata": {},
   "source": [
    "### Exploratory Data Analysis"
   ]
  },
  {
   "cell_type": "code",
   "execution_count": 5,
   "id": "0dfba59e",
   "metadata": {},
   "outputs": [
    {
     "name": "stdout",
     "output_type": "stream",
     "text": [
      "Index(['Uniq Id', 'Product Name', 'Brand Name', 'Asin', 'Category',\n",
      "       'Upc Ean Code', 'List Price', 'Selling Price', 'Quantity',\n",
      "       'Model Number', 'About Product', 'Product Specification',\n",
      "       'Technical Details', 'Shipping Weight', 'Product Dimensions', 'Image',\n",
      "       'Variants', 'Sku', 'Product Url', 'Stock', 'Product Details',\n",
      "       'Dimensions', 'Color', 'Ingredients', 'Direction To Use',\n",
      "       'Is Amazon Seller', 'Size Quantity Variant', 'Product Description'],\n",
      "      dtype='object')\n"
     ]
    }
   ],
   "source": [
    "#observe columns\n",
    "print(df.columns)"
   ]
  },
  {
   "cell_type": "code",
   "execution_count": 6,
   "id": "55105843",
   "metadata": {},
   "outputs": [
    {
     "name": "stdout",
     "output_type": "stream",
     "text": [
      "<class 'pandas.core.frame.DataFrame'>\n",
      "RangeIndex: 10001 entries, 0 to 10000\n",
      "Data columns (total 28 columns):\n",
      " #   Column                 Non-Null Count  Dtype  \n",
      "---  ------                 --------------  -----  \n",
      " 0   Uniq Id                10001 non-null  object \n",
      " 1   Product Name           10001 non-null  object \n",
      " 2   Brand Name             0 non-null      float64\n",
      " 3   Asin                   0 non-null      float64\n",
      " 4   Category               9171 non-null   object \n",
      " 5   Upc Ean Code           34 non-null     object \n",
      " 6   List Price             0 non-null      float64\n",
      " 7   Selling Price          9894 non-null   object \n",
      " 8   Quantity               0 non-null      float64\n",
      " 9   Model Number           8229 non-null   object \n",
      " 10  About Product          9728 non-null   object \n",
      " 11  Product Specification  8369 non-null   object \n",
      " 12  Technical Details      9211 non-null   object \n",
      " 13  Shipping Weight        8863 non-null   object \n",
      " 14  Product Dimensions     479 non-null    object \n",
      " 15  Image                  10001 non-null  object \n",
      " 16  Variants               2478 non-null   object \n",
      " 17  Sku                    0 non-null      float64\n",
      " 18  Product Url            10001 non-null  object \n",
      " 19  Stock                  0 non-null      float64\n",
      " 20  Product Details        0 non-null      float64\n",
      " 21  Dimensions             0 non-null      float64\n",
      " 22  Color                  0 non-null      float64\n",
      " 23  Ingredients            0 non-null      float64\n",
      " 24  Direction To Use       0 non-null      float64\n",
      " 25  Is Amazon Seller       10001 non-null  object \n",
      " 26  Size Quantity Variant  0 non-null      float64\n",
      " 27  Product Description    0 non-null      float64\n",
      "dtypes: float64(13), object(15)\n",
      "memory usage: 2.1+ MB\n"
     ]
    }
   ],
   "source": [
    "#check dtypes\n",
    "df.info()"
   ]
  },
  {
   "cell_type": "code",
   "execution_count": 7,
   "id": "eac0b279",
   "metadata": {},
   "outputs": [
    {
     "data": {
      "text/html": [
       "<div>\n",
       "<style scoped>\n",
       "    .dataframe tbody tr th:only-of-type {\n",
       "        vertical-align: middle;\n",
       "    }\n",
       "\n",
       "    .dataframe tbody tr th {\n",
       "        vertical-align: top;\n",
       "    }\n",
       "\n",
       "    .dataframe thead th {\n",
       "        text-align: right;\n",
       "    }\n",
       "</style>\n",
       "<table border=\"1\" class=\"dataframe\">\n",
       "  <thead>\n",
       "    <tr style=\"text-align: right;\">\n",
       "      <th></th>\n",
       "      <th>Uniq Id</th>\n",
       "      <th>Product Name</th>\n",
       "      <th>Brand Name</th>\n",
       "      <th>Asin</th>\n",
       "      <th>Category</th>\n",
       "      <th>Upc Ean Code</th>\n",
       "      <th>List Price</th>\n",
       "      <th>Selling Price</th>\n",
       "      <th>Quantity</th>\n",
       "      <th>Model Number</th>\n",
       "      <th>...</th>\n",
       "      <th>Product Url</th>\n",
       "      <th>Stock</th>\n",
       "      <th>Product Details</th>\n",
       "      <th>Dimensions</th>\n",
       "      <th>Color</th>\n",
       "      <th>Ingredients</th>\n",
       "      <th>Direction To Use</th>\n",
       "      <th>Is Amazon Seller</th>\n",
       "      <th>Size Quantity Variant</th>\n",
       "      <th>Product Description</th>\n",
       "    </tr>\n",
       "  </thead>\n",
       "  <tbody>\n",
       "    <tr>\n",
       "      <th>0</th>\n",
       "      <td>4c69b61db1fc16e7013b43fc926e502d</td>\n",
       "      <td>DB Longboards CoreFlex Crossbow 41\" Bamboo Fib...</td>\n",
       "      <td>NaN</td>\n",
       "      <td>NaN</td>\n",
       "      <td>Sports &amp; Outdoors | Outdoor Recreation | Skate...</td>\n",
       "      <td>NaN</td>\n",
       "      <td>NaN</td>\n",
       "      <td>$237.68</td>\n",
       "      <td>NaN</td>\n",
       "      <td>NaN</td>\n",
       "      <td>...</td>\n",
       "      <td>https://www.amazon.com/DB-Longboards-CoreFlex-...</td>\n",
       "      <td>NaN</td>\n",
       "      <td>NaN</td>\n",
       "      <td>NaN</td>\n",
       "      <td>NaN</td>\n",
       "      <td>NaN</td>\n",
       "      <td>NaN</td>\n",
       "      <td>Y</td>\n",
       "      <td>NaN</td>\n",
       "      <td>NaN</td>\n",
       "    </tr>\n",
       "    <tr>\n",
       "      <th>1</th>\n",
       "      <td>66d49bbed043f5be260fa9f7fbff5957</td>\n",
       "      <td>Electronic Snap Circuits Mini Kits Classpack, ...</td>\n",
       "      <td>NaN</td>\n",
       "      <td>NaN</td>\n",
       "      <td>Toys &amp; Games | Learning &amp; Education | Science ...</td>\n",
       "      <td>NaN</td>\n",
       "      <td>NaN</td>\n",
       "      <td>$99.95</td>\n",
       "      <td>NaN</td>\n",
       "      <td>55324</td>\n",
       "      <td>...</td>\n",
       "      <td>https://www.amazon.com/Electronic-Circuits-Cla...</td>\n",
       "      <td>NaN</td>\n",
       "      <td>NaN</td>\n",
       "      <td>NaN</td>\n",
       "      <td>NaN</td>\n",
       "      <td>NaN</td>\n",
       "      <td>NaN</td>\n",
       "      <td>Y</td>\n",
       "      <td>NaN</td>\n",
       "      <td>NaN</td>\n",
       "    </tr>\n",
       "    <tr>\n",
       "      <th>2</th>\n",
       "      <td>2c55cae269aebf53838484b0d7dd931a</td>\n",
       "      <td>3Doodler Create Flexy 3D Printing Filament Ref...</td>\n",
       "      <td>NaN</td>\n",
       "      <td>NaN</td>\n",
       "      <td>Toys &amp; Games | Arts &amp; Crafts | Craft Kits</td>\n",
       "      <td>NaN</td>\n",
       "      <td>NaN</td>\n",
       "      <td>$34.99</td>\n",
       "      <td>NaN</td>\n",
       "      <td>NaN</td>\n",
       "      <td>...</td>\n",
       "      <td>https://www.amazon.com/3Doodler-Plastic-Innova...</td>\n",
       "      <td>NaN</td>\n",
       "      <td>NaN</td>\n",
       "      <td>NaN</td>\n",
       "      <td>NaN</td>\n",
       "      <td>NaN</td>\n",
       "      <td>NaN</td>\n",
       "      <td>Y</td>\n",
       "      <td>NaN</td>\n",
       "      <td>NaN</td>\n",
       "    </tr>\n",
       "    <tr>\n",
       "      <th>3</th>\n",
       "      <td>18018b6bc416dab347b1b7db79994afa</td>\n",
       "      <td>Guillow Airplane Design Studio with Travel Cas...</td>\n",
       "      <td>NaN</td>\n",
       "      <td>NaN</td>\n",
       "      <td>Toys &amp; Games | Hobbies | Models &amp; Model Kits |...</td>\n",
       "      <td>NaN</td>\n",
       "      <td>NaN</td>\n",
       "      <td>$28.91</td>\n",
       "      <td>NaN</td>\n",
       "      <td>142</td>\n",
       "      <td>...</td>\n",
       "      <td>https://www.amazon.com/Guillow-Airplane-Design...</td>\n",
       "      <td>NaN</td>\n",
       "      <td>NaN</td>\n",
       "      <td>NaN</td>\n",
       "      <td>NaN</td>\n",
       "      <td>NaN</td>\n",
       "      <td>NaN</td>\n",
       "      <td>Y</td>\n",
       "      <td>NaN</td>\n",
       "      <td>NaN</td>\n",
       "    </tr>\n",
       "    <tr>\n",
       "      <th>4</th>\n",
       "      <td>e04b990e95bf73bbe6a3fa09785d7cd0</td>\n",
       "      <td>Woodstock- Collage 500 pc Puzzle</td>\n",
       "      <td>NaN</td>\n",
       "      <td>NaN</td>\n",
       "      <td>Toys &amp; Games | Puzzles | Jigsaw Puzzles</td>\n",
       "      <td>NaN</td>\n",
       "      <td>NaN</td>\n",
       "      <td>$17.49</td>\n",
       "      <td>NaN</td>\n",
       "      <td>62151</td>\n",
       "      <td>...</td>\n",
       "      <td>https://www.amazon.com/Woodstock-Collage-500-p...</td>\n",
       "      <td>NaN</td>\n",
       "      <td>NaN</td>\n",
       "      <td>NaN</td>\n",
       "      <td>NaN</td>\n",
       "      <td>NaN</td>\n",
       "      <td>NaN</td>\n",
       "      <td>Y</td>\n",
       "      <td>NaN</td>\n",
       "      <td>NaN</td>\n",
       "    </tr>\n",
       "  </tbody>\n",
       "</table>\n",
       "<p>5 rows × 28 columns</p>\n",
       "</div>"
      ],
      "text/plain": [
       "                            Uniq Id  \\\n",
       "0  4c69b61db1fc16e7013b43fc926e502d   \n",
       "1  66d49bbed043f5be260fa9f7fbff5957   \n",
       "2  2c55cae269aebf53838484b0d7dd931a   \n",
       "3  18018b6bc416dab347b1b7db79994afa   \n",
       "4  e04b990e95bf73bbe6a3fa09785d7cd0   \n",
       "\n",
       "                                        Product Name  Brand Name  Asin  \\\n",
       "0  DB Longboards CoreFlex Crossbow 41\" Bamboo Fib...         NaN   NaN   \n",
       "1  Electronic Snap Circuits Mini Kits Classpack, ...         NaN   NaN   \n",
       "2  3Doodler Create Flexy 3D Printing Filament Ref...         NaN   NaN   \n",
       "3  Guillow Airplane Design Studio with Travel Cas...         NaN   NaN   \n",
       "4                   Woodstock- Collage 500 pc Puzzle         NaN   NaN   \n",
       "\n",
       "                                            Category Upc Ean Code  List Price  \\\n",
       "0  Sports & Outdoors | Outdoor Recreation | Skate...          NaN         NaN   \n",
       "1  Toys & Games | Learning & Education | Science ...          NaN         NaN   \n",
       "2          Toys & Games | Arts & Crafts | Craft Kits          NaN         NaN   \n",
       "3  Toys & Games | Hobbies | Models & Model Kits |...          NaN         NaN   \n",
       "4            Toys & Games | Puzzles | Jigsaw Puzzles          NaN         NaN   \n",
       "\n",
       "  Selling Price  Quantity Model Number  ...  \\\n",
       "0       $237.68       NaN          NaN  ...   \n",
       "1        $99.95       NaN        55324  ...   \n",
       "2        $34.99       NaN          NaN  ...   \n",
       "3        $28.91       NaN          142  ...   \n",
       "4        $17.49       NaN        62151  ...   \n",
       "\n",
       "                                         Product Url Stock Product Details  \\\n",
       "0  https://www.amazon.com/DB-Longboards-CoreFlex-...   NaN             NaN   \n",
       "1  https://www.amazon.com/Electronic-Circuits-Cla...   NaN             NaN   \n",
       "2  https://www.amazon.com/3Doodler-Plastic-Innova...   NaN             NaN   \n",
       "3  https://www.amazon.com/Guillow-Airplane-Design...   NaN             NaN   \n",
       "4  https://www.amazon.com/Woodstock-Collage-500-p...   NaN             NaN   \n",
       "\n",
       "  Dimensions Color Ingredients Direction To Use  Is Amazon Seller  \\\n",
       "0        NaN   NaN         NaN              NaN                 Y   \n",
       "1        NaN   NaN         NaN              NaN                 Y   \n",
       "2        NaN   NaN         NaN              NaN                 Y   \n",
       "3        NaN   NaN         NaN              NaN                 Y   \n",
       "4        NaN   NaN         NaN              NaN                 Y   \n",
       "\n",
       "  Size Quantity Variant  Product Description  \n",
       "0                   NaN                  NaN  \n",
       "1                   NaN                  NaN  \n",
       "2                   NaN                  NaN  \n",
       "3                   NaN                  NaN  \n",
       "4                   NaN                  NaN  \n",
       "\n",
       "[5 rows x 28 columns]"
      ]
     },
     "execution_count": 7,
     "metadata": {},
     "output_type": "execute_result"
    }
   ],
   "source": [
    "df.head()"
   ]
  },
  {
   "cell_type": "code",
   "execution_count": 8,
   "id": "e71d3506",
   "metadata": {},
   "outputs": [
    {
     "data": {
      "text/plain": [
       "Uniq Id                      0\n",
       "Product Name                 0\n",
       "Brand Name               10001\n",
       "Asin                     10001\n",
       "Category                   830\n",
       "Upc Ean Code              9967\n",
       "List Price               10001\n",
       "Selling Price              107\n",
       "Quantity                 10001\n",
       "Model Number              1772\n",
       "About Product              273\n",
       "Product Specification     1632\n",
       "Technical Details          790\n",
       "Shipping Weight           1138\n",
       "Product Dimensions        9522\n",
       "Image                        0\n",
       "Variants                  7523\n",
       "Sku                      10001\n",
       "Product Url                  0\n",
       "Stock                    10001\n",
       "Product Details          10001\n",
       "Dimensions               10001\n",
       "Color                    10001\n",
       "Ingredients              10001\n",
       "Direction To Use         10001\n",
       "Is Amazon Seller             0\n",
       "Size Quantity Variant    10001\n",
       "Product Description      10001\n",
       "dtype: int64"
      ]
     },
     "execution_count": 8,
     "metadata": {},
     "output_type": "execute_result"
    }
   ],
   "source": [
    "#how many missing values?\n",
    "df.isna().sum()"
   ]
  },
  {
   "cell_type": "code",
   "execution_count": 9,
   "id": "62c8c9ef",
   "metadata": {},
   "outputs": [
    {
     "name": "stdout",
     "output_type": "stream",
     "text": [
      "Uniq Id                  10001\n",
      "Product Url              10001\n",
      "Image                     9933\n",
      "Product Name              9929\n",
      "About Product             9036\n",
      "Technical Details         8657\n",
      "Product Specification     8367\n",
      "Model Number              8109\n",
      "Selling Price             3876\n",
      "Variants                  2446\n",
      "Category                   939\n",
      "Shipping Weight            838\n",
      "Product Dimensions         459\n",
      "Upc Ean Code                35\n",
      "Is Amazon Seller             2\n",
      "Asin                         1\n",
      "Quantity                     1\n",
      "List Price                   1\n",
      "Brand Name                   1\n",
      "Sku                          1\n",
      "Stock                        1\n",
      "Product Details              1\n",
      "Color                        1\n",
      "Dimensions                   1\n",
      "Ingredients                  1\n",
      "Direction To Use             1\n",
      "Size Quantity Variant        1\n",
      "Product Description          1\n",
      "dtype: int64\n"
     ]
    }
   ],
   "source": [
    "unique_counts = df.nunique(dropna=False).sort_values(ascending=False)\n",
    "print(unique_counts)"
   ]
  },
  {
   "cell_type": "code",
   "execution_count": 10,
   "id": "2fbd2c2f",
   "metadata": {},
   "outputs": [
    {
     "name": "stdout",
     "output_type": "stream",
     "text": [
      "Columns with only one unique value:\n",
      "\n",
      "- Brand Name: NaN\n",
      "- Asin: NaN\n",
      "- List Price: NaN\n",
      "- Quantity: NaN\n",
      "- Sku: NaN\n",
      "- Stock: NaN\n",
      "- Product Details: NaN\n",
      "- Dimensions: NaN\n",
      "- Color: NaN\n",
      "- Ingredients: NaN\n",
      "- Direction To Use: NaN\n",
      "- Size Quantity Variant: NaN\n",
      "- Product Description: NaN\n"
     ]
    }
   ],
   "source": [
    "#check how many of the one value columns only have NaN values\n",
    "one_value_cols = df.columns[df.nunique(dropna=False) == 1]\n",
    "\n",
    "print(\"Columns with only one unique value:\\n\")\n",
    "\n",
    "for col in one_value_cols:\n",
    "    unique_val = df[col].dropna().unique()\n",
    "    val_display = unique_val[0] if len(unique_val) > 0 else \"NaN\"\n",
    "    print(f\"- {col}: {val_display}\")"
   ]
  },
  {
   "cell_type": "code",
   "execution_count": 11,
   "id": "f4fb2aa8",
   "metadata": {},
   "outputs": [
    {
     "data": {
      "text/plain": [
       "np.int64(0)"
      ]
     },
     "execution_count": 11,
     "metadata": {},
     "output_type": "execute_result"
    }
   ],
   "source": [
    "#check for duplicated rows\n",
    "df.duplicated().sum()"
   ]
  },
  {
   "cell_type": "code",
   "execution_count": 12,
   "id": "2f6ed418",
   "metadata": {},
   "outputs": [
    {
     "name": "stdout",
     "output_type": "stream",
     "text": [
      "10001\n"
     ]
    }
   ],
   "source": [
    "#save og row count just in case\n",
    "original_row_count = len(df)\n",
    "print(original_row_count)"
   ]
  },
  {
   "cell_type": "code",
   "execution_count": 13,
   "id": "99633a70",
   "metadata": {},
   "outputs": [
    {
     "name": "stderr",
     "output_type": "stream",
     "text": [
      "100%|██████████| 100/100 [00:25<00:00,  3.99it/s]"
     ]
    },
    {
     "name": "stdout",
     "output_type": "stream",
     "text": [
      "Image Resolution Summary: Avg: 445×461px | Min: 156×165px | Max: 500×500px\n",
      "Image File Size Summary: Avg: 33.6KB | Min: 7.91KB | Max: 79.92KB\n"
     ]
    },
    {
     "name": "stderr",
     "output_type": "stream",
     "text": [
      "\n"
     ]
    }
   ],
   "source": [
    "#check general size and quality of images\n",
    "def get_image_metadata(url):\n",
    "    try:\n",
    "        response = requests.get(url, headers={\"User-Agent\": \"Mozilla/5.0\"}, timeout=5)\n",
    "        img = Image.open(BytesIO(response.content))\n",
    "        size_bytes = len(response.content)\n",
    "        resolution = img.size  \n",
    "        return resolution, size_bytes\n",
    "    except:\n",
    "        return None, None\n",
    "\n",
    "#use random sample of 100 images for speed\n",
    "sample_urls = random.sample(df['Image'].dropna().tolist(), 100)\n",
    "\n",
    "image_metadata = [get_image_metadata(url) for url in tqdm(sample_urls)]\n",
    "image_metadata = [meta for meta in image_metadata if None not in meta]\n",
    "\n",
    "#get resolution and size\n",
    "if image_metadata:\n",
    "    resolutions, sizes_bytes = zip(*image_metadata)\n",
    "    widths, heights = zip(*resolutions)\n",
    "    sizes_kb = [round(b / 1024, 2) for b in sizes_bytes]\n",
    "\n",
    "    #calc stats for res\n",
    "    avg_width = int(np.mean(widths))\n",
    "    avg_height = int(np.mean(heights))\n",
    "    min_width, min_height = min(widths), min(heights)\n",
    "    max_width, max_height = max(widths), max(heights)\n",
    "    image_resolution_summary = f\"Avg: {avg_width}×{avg_height}px | Min: {min_width}×{min_height}px | Max: {max_width}×{max_height}px\"\n",
    "\n",
    "    #calc states for size\n",
    "    avg_size = round(np.mean(sizes_kb), 2)\n",
    "    min_size = round(min(sizes_kb), 2)\n",
    "    max_size = round(max(sizes_kb), 2)\n",
    "    image_file_size_summary = f\"Avg: {avg_size}KB | Min: {min_size}KB | Max: {max_size}KB\"\n",
    "else:\n",
    "    image_resolution_summary = \"Unable to determine\"\n",
    "    image_file_size_summary = \"Unable to determine\"\n",
    "\n",
    "#print\n",
    "print(\"Image Resolution Summary:\", image_resolution_summary)\n",
    "print(\"Image File Size Summary:\", image_file_size_summary)"
   ]
  },
  {
   "cell_type": "markdown",
   "id": "90e7c726",
   "metadata": {},
   "source": [
    "### Preprocess Data"
   ]
  },
  {
   "cell_type": "code",
   "execution_count": 14,
   "id": "636f52dc",
   "metadata": {},
   "outputs": [],
   "source": [
    "#clean column names\n",
    "df = df.rename(columns=lambda x: x.strip())\n",
    "\n",
    "#only keep first image - CLIP only supports one image per product\n",
    "df['Image'] = df['Image'].apply(lambda x: x.split('|')[0] if isinstance(x, str) else x)\n",
    "\n",
    "#drop rows missing important fields\n",
    "df = df.dropna(subset=['Image', 'Product Name'])\n",
    "\n",
    "#fill missing text fields with None\n",
    "text_cols = [\n",
    "    'Product Name', 'Brand Name', 'About Product', 'Product Description',\n",
    "    'Product Specification', 'Technical Details', 'Category',\n",
    "    'List Price', 'Selling Price'\n",
    "]\n",
    "df[text_cols] = df[text_cols].fillna('None')\n",
    "\n",
    "#reformat category and split into levels\n",
    "df[['Category_L1', 'Category_L2', 'Category_L3']] = df['Category'].str.split('|', expand=True).iloc[:, :3]\n",
    "\n",
    "#convert prices to numbers, take average if range is given\n",
    "def extract_avg_price(price_str):\n",
    "    if pd.isna(price_str) or price_str.strip() == '':\n",
    "        return np.nan\n",
    "    price_str = price_str.replace('$', '').strip()\n",
    "    \n",
    "    if '-' in price_str:\n",
    "        parts = price_str.split('-')\n",
    "        try:\n",
    "            prices = [float(p.strip()) for p in parts if p.strip()]\n",
    "            return sum(prices) / len(prices) if prices else np.nan\n",
    "        except:\n",
    "            return np.nan\n",
    "    try:\n",
    "        return float(price_str)\n",
    "    except:\n",
    "        return np.nan\n",
    "\n",
    "df['Selling Price Numeric'] = df['Selling Price'].apply(extract_avg_price)\n",
    "\n",
    "#convert all weights to pounds\n",
    "def convert_weight(value):\n",
    "    if pd.isna(value) or value == '':\n",
    "        return np.nan\n",
    "    value = value.lower()\n",
    "    try:\n",
    "        if 'pound' in value:\n",
    "            return float(value.split()[0])\n",
    "        elif 'ounce' in value:\n",
    "            return float(value.split()[0]) / 16\n",
    "    except:\n",
    "        return np.nan\n",
    "\n",
    "df['Shipping Weight Numeric'] = df['Shipping Weight'].apply(convert_weight)\n",
    "\n",
    "#combine all key fields to one description\n",
    "def combine_text(row):\n",
    "    parts = [\n",
    "        f\"Title: {row['Product Name']}\",\n",
    "        f\"Brand: {row['Brand Name']}\",\n",
    "        f\"Price: {row['Selling Price'] or row['List Price']}\",\n",
    "        f\"Category: {row['Category']}\",\n",
    "        f\"About: {row['About Product']}\",\n",
    "        f\"Description: {row['Product Description']}\",\n",
    "        f\"Specs: {row['Product Specification']}\",\n",
    "        f\"Technical: {row['Technical Details']}\"\n",
    "    ]\n",
    "    return \"\\n\".join([p for p in parts if p.strip()])\n",
    "\n",
    "#save as df\n",
    "df['full_description'] = df.apply(combine_text, axis=1)"
   ]
  },
  {
   "cell_type": "code",
   "execution_count": 15,
   "id": "e644a064",
   "metadata": {},
   "outputs": [],
   "source": [
    "#save cleaned csv\n",
    "df[['Image', 'full_description']].to_csv(\"cleaned_product_data.csv\", index=False)"
   ]
  },
  {
   "cell_type": "code",
   "execution_count": 16,
   "id": "0ece16ec",
   "metadata": {},
   "outputs": [
    {
     "name": "stdout",
     "output_type": "stream",
     "text": [
      "Title: DB Longboards CoreFlex Crossbow 41\" Bamboo Fiberglass Longboard Complete\n",
      "Brand: None\n",
      "Price: $237.68\n",
      "Category: Sports & Outdoors | Outdoor Recreation | Skates, Skateboards & Scooters | Skateboarding | Standard Skateboards & Longboards | Longboards\n",
      "About: Make sure this fits by entering your model number. | RESPONSIVE FLEX: The Crossbow features a bamboo core encased in triaxial fiberglass and HD plastic for a responsive flex pattern that’s second to none. Pumping & carving have never been so satisfying! Flex 2 is recommended for people 120 to 170 pounds. | COREFLEX TECH: CoreFlex construction is water resistant, impact resistant, scratch resistant and has a flex like you won’t believe. These boards combine fiberglass, epoxy, HD plastic and bamboo to create a perfect blend of performance and strength. | INSPIRED BY THE NORTHWEST: Our founding ideal is chasing adventure & riding the best boards possible, inspired by the hills, waves, beaches & mountains all around our headquarters in the Northwest | BEST IN THE WORLD: DB was founded out of sheer love of longboarding with a mission to create the best custom longboards in the world, to do it sustainably, & to treat customers & employees like family | BEYOND COMPARE: Try our skateboards & accessories if you've tried similar products by Sector 9, Landyachtz, Arbor, Loaded, Globe, Orangatang, Hawgs, Powell-Peralta, Blood Orange, Caliber or Gullwing\n",
      "Description: None\n",
      "Specs: Shipping Weight: 10.7 pounds (View shipping rates and policies)|ASIN: B07KMVJJK7|    #474    in Longboards Skateboard\n",
      "Technical: None\n"
     ]
    },
    {
     "data": {
      "image/png": "[encoded data removed]",
      "text/plain": [
       "<Figure size 640x480 with 1 Axes>"
      ]
     },
     "metadata": {},
     "output_type": "display_data"
    }
   ],
   "source": [
    "#check if text and image load correctly\n",
    "def preview_sample(idx):\n",
    "    row = df.iloc[idx]\n",
    "    print(row['full_description'])\n",
    "    \n",
    "    try:\n",
    "        response = requests.get(row['Image'], headers={\"User-Agent\": \"Mozilla/5.0\"})\n",
    "        img = Image.open(BytesIO(response.content))\n",
    "        plt.imshow(img)\n",
    "        plt.axis('off')\n",
    "        plt.title(\"Product Image\")\n",
    "        plt.show()\n",
    "    except:\n",
    "        print(\"Could not load image.\")\n",
    "\n",
    "preview_sample(0)"
   ]
  },
  {
   "cell_type": "code",
   "execution_count": 17,
   "id": "1d0f6e06",
   "metadata": {},
   "outputs": [
    {
     "name": "stdout",
     "output_type": "stream",
     "text": [
      "['Uniq Id', 'Product Name', 'Brand Name', 'Asin', 'Category', 'Upc Ean Code', 'List Price', 'Selling Price', 'Quantity', 'Model Number', 'About Product', 'Product Specification', 'Technical Details', 'Shipping Weight', 'Product Dimensions', 'Image', 'Variants', 'Sku', 'Product Url', 'Stock', 'Product Details', 'Dimensions', 'Color', 'Ingredients', 'Direction To Use', 'Is Amazon Seller', 'Size Quantity Variant', 'Product Description', 'Category_L1', 'Category_L2', 'Category_L3', 'Selling Price Numeric', 'Shipping Weight Numeric', 'full_description']\n"
     ]
    }
   ],
   "source": [
    "print(df.columns.tolist())"
   ]
  },
  {
   "cell_type": "code",
   "execution_count": 18,
   "id": "29274920",
   "metadata": {},
   "outputs": [
    {
     "name": "stdout",
     "output_type": "stream",
     "text": [
      "Usable products after cleaning: 10001\n",
      "Average word count in full_description: 215.37\n",
      "\n",
      "Top categories:\n",
      " Category_L1\n",
      "Toys & Games                  6662\n",
      "None                           830\n",
      "Home & Kitchen                 707\n",
      "Clothing, Shoes & Jewelry      630\n",
      "Sports & Outdoors              540\n",
      "Name: count, dtype: int64\n",
      "\n",
      "Top categories:\n",
      " Category_L2\n",
      "Hobbies                     889\n",
      "Games & Accessories         535\n",
      "Costumes & Accessories      532\n",
      "Dress Up & Pretend Play     442\n",
      "Sports & Outdoor Play       411\n",
      "Name: count, dtype: int64\n"
     ]
    }
   ],
   "source": [
    "n = len(df)\n",
    "print(f\"Usable products after cleaning: {n}\")\n",
    "\n",
    "df['description_word_count'] = df['full_description'].apply(lambda x: len(str(x).split()))\n",
    "avg_word_count = df['description_word_count'].mean()\n",
    "print(f\"Average word count in full_description: {avg_word_count:.2f}\")\n",
    "\n",
    "df['description_word_count'].describe()\n",
    "\n",
    "top_categories_l1 = df['Category_L1'].value_counts().head(5)\n",
    "print(\"\\nTop categories:\\n\", top_categories_l1)\n",
    "\n",
    "top_categories_l2 = df['Category_L2'].value_counts().head(5)\n",
    "print(\"\\nTop categories:\\n\", top_categories_l2)"
   ]
  },
  {
   "cell_type": "code",
   "execution_count": 19,
   "id": "5952498a",
   "metadata": {},
   "outputs": [
    {
     "name": "stderr",
     "output_type": "stream",
     "text": [
      "100%|██████████| 100/100 [00:14<00:00,  7.13it/s]"
     ]
    },
    {
     "name": "stdout",
     "output_type": "stream",
     "text": [
      "Success rate: 100/100 (100%)\n"
     ]
    },
    {
     "name": "stderr",
     "output_type": "stream",
     "text": [
      "\n"
     ]
    }
   ],
   "source": [
    "#test success rate of downloading images from data - want to make sure images are accessible before handing off to CLIP\n",
    "def test_image_download(url):\n",
    "    try:\n",
    "        response = requests.get(url, headers={\"User-Agent\": \"Mozilla/5.0\"}, timeout=5)\n",
    "        return response.status_code == 200\n",
    "    except:\n",
    "        return False\n",
    "\n",
    "sample_urls = random.sample(df['Image'].dropna().tolist(), 100)\n",
    "success = sum(test_image_download(url) for url in tqdm(sample_urls))\n",
    "\n",
    "image_success_rate = success\n",
    "\n",
    "print(f\"Success rate: {success}/100 ({success}%)\")"
   ]
  },
  {
   "cell_type": "code",
   "execution_count": 20,
   "id": "1b12b411",
   "metadata": {},
   "outputs": [
    {
     "name": "stdout",
     "output_type": "stream",
     "text": [
      "Max similarity (off-diagonal): 0.76\n"
     ]
    }
   ],
   "source": [
    "#check how similar descriptions are\n",
    "sample = df['full_description'].sample(200).tolist()\n",
    "tfidf = TfidfVectorizer().fit_transform(sample)\n",
    "cos_sim = cosine_similarity(tfidf)\n",
    "\n",
    "max_sim = np.max(cos_sim - np.eye(len(sample)))\n",
    "\n",
    "max_description_sim = max_sim\n",
    "\n",
    "print(f\"Max similarity (off-diagonal): {max_sim:.2f}\")"
   ]
  },
  {
   "cell_type": "code",
   "execution_count": 21,
   "id": "4ee18015",
   "metadata": {},
   "outputs": [],
   "source": [
    "#selling price stats\n",
    "avg_price = df['Selling Price Numeric'].mean()\n",
    "min_price = df['Selling Price Numeric'].min()\n",
    "max_price = df['Selling Price Numeric'].max()\n",
    "\n",
    "#shipping weight stats\n",
    "avg_weight = df['Shipping Weight Numeric'].mean()\n",
    "min_weight = df['Shipping Weight Numeric'].min()\n",
    "max_weight = df['Shipping Weight Numeric'].max()\n",
    "\n",
    "#calculate nan only columns\n",
    "nan_only_cols_md = \"\\n\".join(f\"- {col}\" for col in one_value_cols)\n",
    "\n",
    "#calc similarity\n",
    "max_sim_display = f\"{max_description_sim:.2f}/1 ({max_description_sim * 100:.0f}%)\"\n"
   ]
  },
  {
   "cell_type": "code",
   "execution_count": 22,
   "id": "fc616bd5",
   "metadata": {},
   "outputs": [],
   "source": [
    "summary = f\"\"\"\n",
    "### EDA Summary \n",
    "- **Data:** Amazon Product Dataset 2020\n",
    "- **Row count before cleaning:** {original_row_count}\n",
    "- **Row count after cleaning:** {n}\n",
    "- **Columns that contain only NaN values:**\n",
    "```\n",
    "{nan_only_cols_md if nan_only_cols_md else \"None\"}\n",
    "```\n",
    "\n",
    "- **Average word count in `full_description`:** {avg_word_count:.2f}\n",
    "\n",
    "- **Highest similarity score between product descriptions:** {max_sim_display}\n",
    "\n",
    "- **Selling Price (USD):**\n",
    "    - Average: ${avg_price:.2f}  \n",
    "    - Min: ${min_price:.2f}  \n",
    "    - Max: ${max_price:.2f}\n",
    "\n",
    "- **Shipping Weight (lbs):**\n",
    "    - Average: {avg_weight:.2f} lbs  \n",
    "    - Min: {min_weight:.2f} lbs  \n",
    "    - Max: {max_weight:.2f} lbs\n",
    "\n",
    "- **Top 5 Level One Categories:**\n",
    "```\n",
    "{top_categories_l1.to_string(index=True, header=False)}\n",
    "```\n",
    "\n",
    "- **Top 5 Level Two Categories:**\n",
    "```\n",
    "{top_categories_l2.to_string(index=True, header=False)}\n",
    "```\n",
    "\n",
    "- **Image download success rate:** {image_success_rate}/100 ({image_success_rate}%)\n",
    "- **Image Resolution:**\n",
    "    - Average: {avg_width}×{avg_height} px  \n",
    "    - Min: {min_width}×{min_height} px  \n",
    "    - Max: {max_width}×{max_height} px\n",
    "\n",
    "- **Image File Size:**\n",
    "    - Average: {avg_size:.2f} KB  \n",
    "    - Min: {min_size:.2f} KB  \n",
    "    - Max: {max_size:.2f} KB\n",
    "\"\"\""
   ]
  },
  {
   "cell_type": "code",
   "execution_count": 23,
   "id": "2e8a828e",
   "metadata": {},
   "outputs": [],
   "source": [
    "preprocessing_summary = \"\"\"\n",
    "### Data Preprocessing Summary\n",
    "\n",
    "The following steps were applied to clean and prepare the dataset:\n",
    "\n",
    "1. **Standardized column names** by stripping leading/trailing whitespace.\n",
    "2. **Extracted first image URL** from pipe-separated `Image` field.\n",
    "3. **Dropped rows missing essential values** (`Image` or `Product Name`).\n",
    "4. **Filled missing values** in key text fields (e.g., `Brand Name`, `Category`, `Product Description`) with strings of \"None\" to ensure consistency.\n",
    "5. **Created a unified `full_description`** field combining title, brand, pricing, and all product text fields.\n",
    "6. **Converted `Selling Price`** to numeric format, averaging ranges when present and removing dollar signs.\n",
    "7. **Parsed `Shipping Weight`** and converted all values to pounds (lbs), handling entries in ounces or malformed strings.\n",
    "8. **Identified and listed columns** with only NaNs, but did not drop as may be significant later.  \n",
    "9. **Split `Category`** into hierarchical levels for better analysis. \n",
    "\"\"\""
   ]
  },
  {
   "cell_type": "code",
   "execution_count": 24,
   "id": "ada9a628",
   "metadata": {},
   "outputs": [
    {
     "data": {
      "text/markdown": [
       "\n",
       "### EDA Summary \n",
       "- **Data:** Amazon Product Dataset 2020\n",
       "- **Row count before cleaning:** 10001\n",
       "- **Row count after cleaning:** 10001\n",
       "- **Columns that contain only NaN values:**\n",
       "```\n",
       "- Brand Name\n",
       "- Asin\n",
       "- List Price\n",
       "- Quantity\n",
       "- Sku\n",
       "- Stock\n",
       "- Product Details\n",
       "- Dimensions\n",
       "- Color\n",
       "- Ingredients\n",
       "- Direction To Use\n",
       "- Size Quantity Variant\n",
       "- Product Description\n",
       "```\n",
       "\n",
       "- **Average word count in `full_description`:** 215.37\n",
       "\n",
       "- **Highest similarity score between product descriptions:** 0.76/1 (76%)\n",
       "\n",
       "- **Selling Price (USD):**\n",
       "    - Average: $34.56  \n",
       "    - Min: $0.01  \n",
       "    - Max: $945.99\n",
       "\n",
       "- **Shipping Weight (lbs):**\n",
       "    - Average: 4.46 lbs  \n",
       "    - Min: 0.01 lbs  \n",
       "    - Max: 975.00 lbs\n",
       "\n",
       "- **Top 5 Level One Categories:**\n",
       "```\n",
       "Toys & Games                  6662\n",
       "None                           830\n",
       "Home & Kitchen                 707\n",
       "Clothing, Shoes & Jewelry      630\n",
       "Sports & Outdoors              540\n",
       "```\n",
       "\n",
       "- **Top 5 Level Two Categories:**\n",
       "```\n",
       "Hobbies                     889\n",
       "Games & Accessories         535\n",
       "Costumes & Accessories      532\n",
       "Dress Up & Pretend Play     442\n",
       "Sports & Outdoor Play       411\n",
       "```\n",
       "\n",
       "- **Image download success rate:** 100/100 (100%)\n",
       "- **Image Resolution:**\n",
       "    - Average: 445×461 px  \n",
       "    - Min: 156×165 px  \n",
       "    - Max: 500×500 px\n",
       "\n",
       "- **Image File Size:**\n",
       "    - Average: 33.60 KB  \n",
       "    - Min: 7.91 KB  \n",
       "    - Max: 79.92 KB\n"
      ],
      "text/plain": [
       "<IPython.core.display.Markdown object>"
      ]
     },
     "metadata": {},
     "output_type": "display_data"
    },
    {
     "data": {
      "text/markdown": [
       "\n",
       "### Data Preprocessing Summary\n",
       "\n",
       "The following steps were applied to clean and prepare the dataset:\n",
       "\n",
       "1. **Standardized column names** by stripping leading/trailing whitespace.\n",
       "2. **Extracted first image URL** from pipe-separated `Image` field.\n",
       "3. **Dropped rows missing essential values** (`Image` or `Product Name`).\n",
       "4. **Filled missing values** in key text fields (e.g., `Brand Name`, `Category`, `Product Description`) with strings of \"None\" to ensure consistency.\n",
       "5. **Created a unified `full_description`** field combining title, brand, pricing, and all product text fields.\n",
       "6. **Converted `Selling Price`** to numeric format, averaging ranges when present and removing dollar signs.\n",
       "7. **Parsed `Shipping Weight`** and converted all values to pounds (lbs), handling entries in ounces or malformed strings.\n",
       "8. **Identified and listed columns** with only NaNs, but did not drop as may be significant later.  \n",
       "9. **Split `Category`** into hierarchical levels for better analysis. \n"
      ],
      "text/plain": [
       "<IPython.core.display.Markdown object>"
      ]
     },
     "metadata": {},
     "output_type": "display_data"
    }
   ],
   "source": [
    "display(Markdown(summary))\n",
    "display(Markdown(preprocessing_summary))"
   ]
  },
  {
   "cell_type": "markdown",
   "id": "25a47df7",
   "metadata": {},
   "source": [
    "## Implementing Vision-Language Retrieval-Augmented Generation (RAG)"
   ]
  },
  {
   "cell_type": "code",
   "execution_count": null,
   "id": "96698554",
   "metadata": {},
   "outputs": [],
   "source": []
  }
 ],
 "metadata": {
  "kernelspec": {
   "display_name": "gaivenv",
   "language": "python",
   "name": "python3"
  },
  "language_info": {
   "codemirror_mode": {
    "name": "ipython",
    "version": 3
   },
   "file_extension": ".py",
   "mimetype": "text/x-python",
   "name": "python",
   "nbconvert_exporter": "python",
   "pygments_lexer": "ipython3",
   "version": "3.12.3"
  }
 },
 "nbformat": 4,
 "nbformat_minor": 5
}
